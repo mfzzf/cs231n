{
 "cells": [
  {
   "cell_type": "code",
   "execution_count": 1,
   "id": "81824ab8",
   "metadata": {
    "id": "81824ab8",
    "colab": {
     "base_uri": "https://localhost:8080/"
    },
    "executionInfo": {
     "status": "ok",
     "timestamp": 1744179336197,
     "user_tz": 420,
     "elapsed": 18548,
     "user": {
      "displayName": "Chaitanya Pankajkumar Patel",
      "userId": "12528634836775253144"
     }
    },
    "outputId": "6e1144f8-8493-4efa-e0c5-7fa312a7c5c4"
   },
   "outputs": [
    {
     "output_type": "stream",
     "name": "stdout",
     "text": [
      "Mounted at /content/drive\n"
     ]
    }
   ],
   "source": [
    "from google.colab import drive\n",
    "\n",
    "drive.mount('/content/drive')\n",
    "\n",
    "# TODO: Enter the path in your Drive of the assignment.\n",
    "# e.g. 'cs231n/assignments/assignment1/'\n",
    "FOLDERNAME = 'cs231n/assignments/assignment1/'\n",
    "\n",
    "assert FOLDERNAME is not None, \"[!] Enter the foldername.\""
   ]
  },
  {
   "cell_type": "markdown",
   "id": "6be91a6a",
   "metadata": {
    "id": "6be91a6a"
   },
   "source": "# 收集提交 - 压缩 + 生成 PDF\n\n在完成所有其他 notebook 后运行此 notebook：`knn.ipynb`、`softmax.ipynb`、`two_layer_net.ipynb`、`features.ipynb` 和 `FullyConnectedNets.ipynb`。\n\n它将：\n\n* 生成一个你的代码的 zip 文件（`.py` 和 `.ipynb`），称为 `a1_code_submission.zip`。\n* 将所有 notebook 转换为名为 `a1_inline_submission.pdf` 的单个 PDF 文件。\n\n如果此步骤的提交成功，你应该看到以下显示消息：\n\n`### 完成！请将 a1_code_submission.zip 和 a1_inline_submission.pdf 提交到 Gradescope。 ###`\n\n确保将 zip 和 pdf 文件本地下载到你的计算机，然后提交到 Gradescope。恭喜成功完成作业！"
  },
  {
   "cell_type": "code",
   "execution_count": null,
   "id": "aa146f82",
   "metadata": {
    "id": "aa146f82"
   },
   "outputs": [],
   "source": [
    "%cd drive/My\\ Drive\n",
    "%cd $FOLDERNAME\n",
    "!sudo apt-get install texlive-xetex texlive-fonts-recommended texlive-plain-generic texlive-latex-extra pandoc --fix-missing\n",
    "!pip install PyPDF2\n",
    "!bash collectSubmission.sh"
   ]
  },
  {
   "cell_type": "code",
   "source": [],
   "metadata": {
    "id": "YT11pl64v2kP"
   },
   "id": "YT11pl64v2kP",
   "execution_count": null,
   "outputs": []
  }
 ],
 "metadata": {
  "colab": {
   "provenance": []
  },
  "language_info": {
   "name": "python"
  },
  "kernelspec": {
   "name": "python3",
   "display_name": "Python 3"
  },
  "gpuClass": "standard"
 },
 "nbformat": 4,
 "nbformat_minor": 5
}